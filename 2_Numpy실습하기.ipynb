{
  "nbformat": 4,
  "nbformat_minor": 0,
  "metadata": {
    "colab": {
      "name": "2_Numpy실습하기.ipynb",
      "provenance": [],
      "collapsed_sections": [],
      "authorship_tag": "ABX9TyOEBU7WgFnsjIfcGwcTDwz4",
      "include_colab_link": true
    },
    "kernelspec": {
      "name": "python3",
      "display_name": "Python 3"
    },
    "language_info": {
      "name": "python"
    }
  },
  "cells": [
    {
      "cell_type": "markdown",
      "metadata": {
        "id": "view-in-github",
        "colab_type": "text"
      },
      "source": [
        "<a href=\"https://colab.research.google.com/github/zsx29/Colab/blob/main/2_Numpy%EC%8B%A4%EC%8A%B5%ED%95%98%EA%B8%B0.ipynb\" target=\"_parent\"><img src=\"https://colab.research.google.com/assets/colab-badge.svg\" alt=\"Open In Colab\"/></a>"
      ]
    },
    {
      "cell_type": "code",
      "metadata": {
        "id": "-7YiCX4LNPnB"
      },
      "source": [
        "\"\"\"\n",
        "\n",
        "  날짜 : 2021-07-05\n",
        "  이름 : 박재형\n",
        "  내용 : Numpy 실습하기\n",
        "\n",
        "\"\"\"\n",
        "import numpy as np  "
      ],
      "execution_count": 2,
      "outputs": []
    },
    {
      "cell_type": "code",
      "metadata": {
        "colab": {
          "base_uri": "https://localhost:8080/"
        },
        "id": "i3QFFA04NxUM",
        "outputId": "6f9dd04e-8bdb-497a-815f-7f7ee8a211f9"
      },
      "source": [
        "# Numpy 자료구조 - 벡터\n",
        "\n",
        "v1 = np.array([1, 2, 3, 4, 5])\n",
        "print(\"v1 :\", v1)\n",
        "\n",
        "v2 = np.arange(5)\n",
        "print(\"v2 :\", v2)\n",
        "\n",
        "v3 = np.arange(10)\n",
        "print(\"v3 :\", v3)\n",
        "\n",
        "v4 = [1, 2, 3, 4, 5]\n",
        "print(\"v4 :\", len(v4))\n",
        "print(\"v1 :\", len(v1))\n"
      ],
      "execution_count": 16,
      "outputs": [
        {
          "output_type": "stream",
          "text": [
            "v1 : [1 2 3 4 5]\n",
            "v2 : [0 1 2 3 4]\n",
            "v3 : [0 1 2 3 4 5 6 7 8 9]\n",
            "v4 : 5\n",
            "v1 : 5\n"
          ],
          "name": "stdout"
        }
      ]
    },
    {
      "cell_type": "code",
      "metadata": {
        "colab": {
          "base_uri": "https://localhost:8080/"
        },
        "id": "r4RAgn93N5Sj",
        "outputId": "1e0febe1-5b47-40eb-f6c8-e6bfdf43364c"
      },
      "source": [
        "# 0 ~ 1 사이의 임의의 실수\n",
        "rand1 = np.random.rand(100)\n",
        "print(rand1)\n",
        "\n",
        "\n",
        "# 표준 정규분포를 따르는 실수 100개\n",
        "rand2 = np.random.randn(100)\n",
        "print(rand2)\n",
        "\n",
        "# 0 ~ 9 사이의 임의의 정수\n",
        "rand3 = np.random.randint(10)\n",
        "print(rand3)\n"
      ],
      "execution_count": 24,
      "outputs": [
        {
          "output_type": "stream",
          "text": [
            "[0.01626179 0.69918715 0.00369803 0.76098165 0.38829964 0.48774119\n",
            " 0.30211817 0.72171285 0.5496731  0.459655   0.00315524 0.81726841\n",
            " 0.92066626 0.23216603 0.64040132 0.65036375 0.95359377 0.34945487\n",
            " 0.2739416  0.7800145  0.7721292  0.42568966 0.34426532 0.23058453\n",
            " 0.75831031 0.79446273 0.3064646  0.04138992 0.23231764 0.13958892\n",
            " 0.38638608 0.78462663 0.76761912 0.04502018 0.41950783 0.41403786\n",
            " 0.93545382 0.753835   0.13125176 0.24306397 0.17312845 0.04143383\n",
            " 0.10220672 0.00116165 0.38343982 0.19387543 0.34861653 0.09334899\n",
            " 0.93834565 0.08124916 0.82816694 0.85367724 0.10277099 0.90892337\n",
            " 0.50154265 0.25045102 0.42364872 0.97671779 0.93239738 0.77770943\n",
            " 0.00925531 0.8013209  0.32952063 0.83642943 0.87291632 0.09851483\n",
            " 0.00987309 0.36312838 0.3613817  0.46484356 0.94233982 0.42126579\n",
            " 0.7046967  0.52594343 0.03533192 0.49634614 0.25973942 0.81602399\n",
            " 0.35799199 0.93878779 0.0343657  0.13515025 0.75786212 0.50670041\n",
            " 0.69669286 0.71469641 0.9476868  0.32749569 0.83571224 0.23296264\n",
            " 0.86980887 0.6400105  0.07959929 0.56415606 0.63646085 0.31100371\n",
            " 0.42167276 0.61008412 0.11670847 0.55816664]\n",
            "[-1.09539265  0.21415448  0.42826346 -0.6696631   1.4867022  -0.21372614\n",
            "  0.12610926  0.1313353  -1.29949147 -1.49779734 -0.95008909 -0.05626751\n",
            " -0.36425672 -0.64636238  0.75609378 -1.27160113  1.21651297 -0.51399573\n",
            "  0.04420546  1.77259723  0.47546316 -0.86559308  0.76380866 -0.63442436\n",
            " -0.88549898 -2.10616352  0.2518442   1.36215536  0.56173518  1.61298513\n",
            " -1.07363238 -3.57021482  0.56618727 -0.30521732  0.88950609  0.32270837\n",
            "  0.25953226  0.13712245  0.07851403 -1.99635818  0.4536873  -0.13951598\n",
            " -1.09851703  1.71643259 -1.08271108 -0.67854392 -2.97583492  0.56862393\n",
            " -1.16654526 -0.50229729  1.37052283 -1.32638609  0.16331992  2.20713594\n",
            " -2.4871422   0.09635862 -1.96240048 -1.65266926 -0.69624149 -0.64377989\n",
            "  0.70073105 -0.56659222 -1.31775082 -1.43783888 -0.696159    0.66912452\n",
            "  1.19964061  0.24135574  0.34451577  2.489594    0.71555247  0.15341874\n",
            "  0.40092108  0.36570113  0.81790443  2.02081647 -1.24239669 -0.61273094\n",
            "  1.18520357 -0.0119309  -0.29324783  1.33783757  0.67716802  0.8484952\n",
            " -0.94874838  1.24990623  0.87945121 -0.43958762 -0.45362772 -1.31923642\n",
            " -0.4510936   1.20971929 -0.43327594 -0.13022255  1.33407862  0.01923832\n",
            "  0.34937807 -2.54431868 -0.71175179  1.34798526]\n",
            "3\n"
          ],
          "name": "stdout"
        }
      ]
    },
    {
      "cell_type": "code",
      "metadata": {
        "colab": {
          "base_uri": "https://localhost:8080/"
        },
        "id": "RUVeXQyAOB3q",
        "outputId": "90229914-4dfc-4457-8b2c-610d59e3fbf2"
      },
      "source": [
        "# Numpy 자료구조 - 행렬\n",
        "m1 = np.array([[1, 2], [3, 4]])\n",
        "print(m1)\n",
        "\n",
        "m2 = np.array([[1,2,3],[4,5,6],[7,8,9]])\n",
        "print(m2)\n",
        "\n",
        "m3 = np.ones([2, 4])\n",
        "print(m3)\n",
        "\n",
        "m4 = np.zeros([3, 2])\n",
        "print(m4)"
      ],
      "execution_count": 31,
      "outputs": [
        {
          "output_type": "stream",
          "text": [
            "[[1 2]\n",
            " [3 4]]\n",
            "[[1 2 3]\n",
            " [4 5 6]\n",
            " [7 8 9]]\n",
            "[[1. 1. 1. 1.]\n",
            " [1. 1. 1. 1.]]\n",
            "[[0. 0.]\n",
            " [0. 0.]\n",
            " [0. 0.]]\n"
          ],
          "name": "stdout"
        }
      ]
    },
    {
      "cell_type": "code",
      "metadata": {
        "colab": {
          "base_uri": "https://localhost:8080/"
        },
        "id": "GiU5NHw1OCNe",
        "outputId": "971afdeb-1a72-411f-9d19-1bcb501d8afc"
      },
      "source": [
        "# 전치행렬\n",
        "m1.T\n",
        "print(m1.T)\n",
        "print(m2.transpose())"
      ],
      "execution_count": 37,
      "outputs": [
        {
          "output_type": "stream",
          "text": [
            "[[1 3]\n",
            " [2 4]]\n",
            "[[1 4 7]\n",
            " [2 5 8]\n",
            " [3 6 9]]\n"
          ],
          "name": "stdout"
        }
      ]
    },
    {
      "cell_type": "code",
      "metadata": {
        "colab": {
          "base_uri": "https://localhost:8080/"
        },
        "id": "CXYW4Gc-OCTL",
        "outputId": "a97e7231-b638-4e02-fdb6-386e2454ba93"
      },
      "source": [
        "# 단위행렬\n",
        "e1 = np.identity(2)\n",
        "e2 = np.identity(3)\n",
        "e3 = np.identity(4)\n",
        "print(e1)\n",
        "print(e2)\n",
        "print(e3)"
      ],
      "execution_count": 39,
      "outputs": [
        {
          "output_type": "stream",
          "text": [
            "[[1. 0.]\n",
            " [0. 1.]]\n",
            "[[1. 0. 0.]\n",
            " [0. 1. 0.]\n",
            " [0. 0. 1.]]\n",
            "[[1. 0. 0. 0.]\n",
            " [0. 1. 0. 0.]\n",
            " [0. 0. 1. 0.]\n",
            " [0. 0. 0. 1.]]\n"
          ],
          "name": "stdout"
        }
      ]
    },
    {
      "cell_type": "code",
      "metadata": {
        "colab": {
          "base_uri": "https://localhost:8080/"
        },
        "id": "cBVntjarOCZW",
        "outputId": "0878316e-f0d2-46fc-914c-6fe3a6f75744"
      },
      "source": [
        "# 역행렬\n",
        "im1 = np.linalg.inv(m1)  # inverse\n",
        "\n",
        "print(im1)\n",
        "print(m1)\n",
        "result = m1.dot(im1)\n",
        "print(result.round()) "
      ],
      "execution_count": 45,
      "outputs": [
        {
          "output_type": "stream",
          "text": [
            "[[-2.   1. ]\n",
            " [ 1.5 -0.5]]\n",
            "[[1 2]\n",
            " [3 4]]\n",
            "[[1. 0.]\n",
            " [0. 1.]]\n"
          ],
          "name": "stdout"
        }
      ]
    },
    {
      "cell_type": "code",
      "metadata": {
        "colab": {
          "base_uri": "https://localhost:8080/"
        },
        "id": "fy4zd7LbOCej",
        "outputId": "5ed40f96-9726-4fc0-e20a-5c38e0abce23"
      },
      "source": [
        "# 행렬 인덱싱\n",
        "matrix = np.array([[1,2,3,4],[5,6,7,8],[9,10,11,12]])\n",
        "print(matrix)\n",
        "\n",
        "print(matrix[1, 2])\n",
        "print(matrix[0, :])\n",
        "print(matrix[:, 0])\n",
        "print(matrix[2:0, 0:2])\n",
        "print(matrix[:, 0:2])\n",
        "print(matrix[1:3, 3:1])\n",
        "\n",
        "\n",
        "\n",
        "\n",
        "\n"
      ],
      "execution_count": 57,
      "outputs": [
        {
          "output_type": "stream",
          "text": [
            "[[ 1  2  3  4]\n",
            " [ 5  6  7  8]\n",
            " [ 9 10 11 12]]\n",
            "7\n",
            "[1 2 3 4]\n",
            "[1 5 9]\n",
            "[]\n",
            "[[ 1  2]\n",
            " [ 5  6]\n",
            " [ 9 10]]\n",
            "[]\n"
          ],
          "name": "stdout"
        }
      ]
    },
    {
      "cell_type": "code",
      "metadata": {
        "id": "VNkFLCxKYAWv"
      },
      "source": [
        ""
      ],
      "execution_count": null,
      "outputs": []
    }
  ]
}