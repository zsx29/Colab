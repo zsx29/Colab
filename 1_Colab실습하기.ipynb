{
  "nbformat": 4,
  "nbformat_minor": 0,
  "metadata": {
    "colab": {
      "name": "1_Colab실습하기.ipynb",
      "provenance": [],
      "collapsed_sections": [],
      "authorship_tag": "ABX9TyO5g0kksH9UgMmfAmAXaMG9",
      "include_colab_link": true
    },
    "kernelspec": {
      "name": "python3",
      "display_name": "Python 3"
    },
    "language_info": {
      "name": "python"
    }
  },
  "cells": [
    {
      "cell_type": "markdown",
      "metadata": {
        "id": "view-in-github",
        "colab_type": "text"
      },
      "source": [
        "<a href=\"https://colab.research.google.com/github/zsx29/Colab/blob/main/1_Colab%EC%8B%A4%EC%8A%B5%ED%95%98%EA%B8%B0.ipynb\" target=\"_parent\"><img src=\"https://colab.research.google.com/assets/colab-badge.svg\" alt=\"Open In Colab\"/></a>"
      ]
    },
    {
      "cell_type": "code",
      "metadata": {
        "id": "6KKMz8u1LKIR",
        "colab": {
          "base_uri": "https://localhost:8080/",
          "height": 35
        },
        "outputId": "891fc615-b52f-4834-ccec-d24cc6ec7faa"
      },
      "source": [
        "\"\"\"\n",
        "\n",
        "  날짜 : 2021-07-05\n",
        "  이름 : 박재형\n",
        "  내용 : Colab 실습하기\n",
        "\n",
        "=======================================\n",
        "  실행 단축기 : ctrl + enter\n",
        "  실행하고 코드 추가 : shift + enter\n",
        "=======================================\n",
        "\n",
        "\"\"\"\n",
        "\n",
        "\n",
        "\n",
        "\n"
      ],
      "execution_count": null,
      "outputs": [
        {
          "output_type": "execute_result",
          "data": {
            "application/vnd.google.colaboratory.intrinsic+json": {
              "type": "string"
            },
            "text/plain": [
              "'\\n날짜 : 2021-07-05\\n이름 : 박재형\\n내용 : Colab 실습하기\\n\\n  실행 단축기 : ctrl + enter\\n  \\n'"
            ]
          },
          "metadata": {
            "tags": []
          },
          "execution_count": 4
        }
      ]
    },
    {
      "cell_type": "code",
      "metadata": {
        "colab": {
          "base_uri": "https://localhost:8080/"
        },
        "id": "TVn21PT9MQ-k",
        "outputId": "0fe1073b-73bf-473c-c9e0-d18c204ba54b"
      },
      "source": [
        "print(\"Colab\")"
      ],
      "execution_count": null,
      "outputs": [
        {
          "output_type": "stream",
          "text": [
            "Colab\n"
          ],
          "name": "stdout"
        }
      ]
    },
    {
      "cell_type": "code",
      "metadata": {
        "colab": {
          "base_uri": "https://localhost:8080/"
        },
        "id": "XQ2MQs_dMqQZ",
        "outputId": "c1d37aff-55fc-466a-8f53-bc1b1947a2c3"
      },
      "source": [
        "num1 = 1\n",
        "num2 = 2\n",
        "num1 + num2"
      ],
      "execution_count": null,
      "outputs": [
        {
          "output_type": "execute_result",
          "data": {
            "text/plain": [
              "3"
            ]
          },
          "metadata": {
            "tags": []
          },
          "execution_count": 7
        }
      ]
    },
    {
      "cell_type": "code",
      "metadata": {
        "id": "SUnT7mOkMv0j"
      },
      "source": [
        ""
      ],
      "execution_count": null,
      "outputs": []
    }
  ]
}